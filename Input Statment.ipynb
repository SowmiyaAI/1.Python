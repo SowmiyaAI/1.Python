{
 "cells": [
  {
   "cell_type": "markdown",
   "metadata": {},
   "source": []
  },
  {
   "cell_type": "code",
   "execution_count": 1,
   "metadata": {},
   "outputs": [
    {
     "name": "stdout",
     "output_type": "stream",
     "text": [
      "Enther the num1:30\n",
      "Enther the num2:50\n",
      "3050\n"
     ]
    }
   ],
   "source": [
    "num1=input(\"Enther the num1:\")\n",
    "num2=input(\"Enther the num2:\")\n",
    "add=num1+num2\n",
    "print(add)"
   ]
  },
  {
   "cell_type": "code",
   "execution_count": 2,
   "metadata": {},
   "outputs": [
    {
     "ename": "SyntaxError",
     "evalue": "invalid syntax (<ipython-input-2-299ddc29e56d>, line 2)",
     "output_type": "error",
     "traceback": [
      "\u001b[1;36m  File \u001b[1;32m\"<ipython-input-2-299ddc29e56d>\"\u001b[1;36m, line \u001b[1;32m2\u001b[0m\n\u001b[1;33m    num2=int(input(\"Enther the num2:\")\u001b[0m\n\u001b[1;37m       ^\u001b[0m\n\u001b[1;31mSyntaxError\u001b[0m\u001b[1;31m:\u001b[0m invalid syntax\n"
     ]
    }
   ],
   "source": [
    "num1=int(input(\"Enther the num1:\")\n",
    "num2=int(input(\"Enther the num2:\")\n",
    "add=num1+num2\n",
    "print(add)"
   ]
  },
  {
   "cell_type": "code",
   "execution_count": 3,
   "metadata": {},
   "outputs": [
    {
     "name": "stdout",
     "output_type": "stream",
     "text": [
      "Enther the num1:30\n",
      "Enther the num2:50\n",
      "80\n"
     ]
    }
   ],
   "source": [
    "num1=int(input(\"Enther the num1:\"))\n",
    "num2=int(input(\"Enther the num2:\"))\n",
    "add=num1+num2\n",
    "print(add)"
   ]
  },
  {
   "cell_type": "code",
   "execution_count": null,
   "metadata": {},
   "outputs": [],
   "source": []
  }
 ],
 "metadata": {
  "kernelspec": {
   "display_name": "Python 3",
   "language": "python",
   "name": "python3"
  },
  "language_info": {
   "codemirror_mode": {
    "name": "ipython",
    "version": 3
   },
   "file_extension": ".py",
   "mimetype": "text/x-python",
   "name": "python",
   "nbconvert_exporter": "python",
   "pygments_lexer": "ipython3",
   "version": "3.7.4"
  }
 },
 "nbformat": 4,
 "nbformat_minor": 2
}
