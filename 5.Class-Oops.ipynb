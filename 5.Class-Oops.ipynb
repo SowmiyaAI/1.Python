{
 "cells": [
  {
   "cell_type": "code",
   "execution_count": 5,
   "metadata": {},
   "outputs": [
    {
     "data": {
      "text/plain": [
       "6"
      ]
     },
     "execution_count": 5,
     "metadata": {},
     "output_type": "execute_result"
    }
   ],
   "source": [
    "class calculator():\n",
    "    def addition(a,b):\n",
    "        add=a+b\n",
    "        return add\n",
    "    def substraction(a,b):\n",
    "        sub=a-b\n",
    "        return sub\n",
    "    def multiplication(a,b):\n",
    "        mul=a*b\n",
    "        return mul\n",
    "calculator.addition(2,4) \n",
    " "
   ]
  },
  {
   "cell_type": "code",
   "execution_count": 6,
   "metadata": {},
   "outputs": [
    {
     "data": {
      "text/plain": [
       "2"
      ]
     },
     "execution_count": 6,
     "metadata": {},
     "output_type": "execute_result"
    }
   ],
   "source": [
    "calculator.substraction(4,2) "
   ]
  },
  {
   "cell_type": "code",
   "execution_count": 7,
   "metadata": {},
   "outputs": [
    {
     "data": {
      "text/plain": [
       "4"
      ]
     },
     "execution_count": 7,
     "metadata": {},
     "output_type": "execute_result"
    }
   ],
   "source": [
    "calculator.multiplication(2,2)   "
   ]
  },
  {
   "cell_type": "code",
   "execution_count": 10,
   "metadata": {},
   "outputs": [],
   "source": [
    "class multipleFunctions():\n",
    "    def oddeven():\n",
    "        num=int(input(\"enter the number:\"))\n",
    "        if(num%2==0):\n",
    "            print(\"even number\")\n",
    "            megs=\"even number\"\n",
    "        else:\n",
    "            print(\"odd number\")\n",
    "            megs=\"odd number\"\n",
    "        return megs   \n",
    "    def BMI():\n",
    "        BMI=int(input(\"Enter the BMI index:\"))\n",
    "        if(BMI<18.5):\n",
    "            print(\"underweight\")\n",
    "            message=\"underweight\"\n",
    "        elif(BMI<24.9):\n",
    "            print(\"normal\")\n",
    "            message=\"normal\"\n",
    "        elif(BMI<29.9):\n",
    "            print(\"overweight\")\n",
    "            message=\"overweight\"\n",
    "        elif(BMI<39.9):\n",
    "            print(\"very overweight\")    \n",
    "            message=\"very overweight\"\n",
    "        else:\n",
    "            print(\"morbidly obese\")\n",
    "            message=\"morbidly obese\"\n",
    "        return message\n"
   ]
  },
  {
   "cell_type": "code",
   "execution_count": 11,
   "metadata": {},
   "outputs": [
    {
     "name": "stdout",
     "output_type": "stream",
     "text": [
      "Enter the BMI index:25\n",
      "overweight\n"
     ]
    },
    {
     "data": {
      "text/plain": [
       "'overweight'"
      ]
     },
     "execution_count": 11,
     "metadata": {},
     "output_type": "execute_result"
    }
   ],
   "source": [
    "multipleFunctions.BMI()"
   ]
  },
  {
   "cell_type": "code",
   "execution_count": 12,
   "metadata": {},
   "outputs": [
    {
     "name": "stdout",
     "output_type": "stream",
     "text": [
      "enter the number:56\n",
      "even number\n"
     ]
    },
    {
     "data": {
      "text/plain": [
       "'even number'"
      ]
     },
     "execution_count": 12,
     "metadata": {},
     "output_type": "execute_result"
    }
   ],
   "source": [
    "multipleFunctions.oddeven()"
   ]
  },
  {
   "cell_type": "code",
   "execution_count": null,
   "metadata": {},
   "outputs": [],
   "source": []
  }
 ],
 "metadata": {
  "kernelspec": {
   "display_name": "Python 3",
   "language": "python",
   "name": "python3"
  },
  "language_info": {
   "codemirror_mode": {
    "name": "ipython",
    "version": 3
   },
   "file_extension": ".py",
   "mimetype": "text/x-python",
   "name": "python",
   "nbconvert_exporter": "python",
   "pygments_lexer": "ipython3",
   "version": "3.7.4"
  }
 },
 "nbformat": 4,
 "nbformat_minor": 2
}
