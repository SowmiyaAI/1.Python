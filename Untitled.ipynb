{
 "cells": [
  {
   "cell_type": "code",
   "execution_count": 14,
   "metadata": {},
   "outputs": [],
   "source": [
    "def agecategory():\n",
    "    age=int(input(\"enter the age:\"))\n",
    "    if(age<18):\n",
    "        print(\"children\")\n",
    "        cate=\"children\"\n",
    "    elif(age<35):\n",
    "        print(\"adult\")\n",
    "        cate=\"adult\"\n",
    "    elif(age<59):\n",
    "        print(\"citizen\")\n",
    "        cate=\"citizen\"\n",
    "    else:\n",
    "        print(\"senior citizen\")\n",
    "        cate=\"senior citizen\"   \n",
    "    return cate   \n",
    "    "
   ]
  },
  {
   "cell_type": "code",
   "execution_count": 15,
   "metadata": {},
   "outputs": [
    {
     "name": "stdout",
     "output_type": "stream",
     "text": [
      "enter the age:23\n",
      "adult\n"
     ]
    }
   ],
   "source": [
    "a=agecategory()"
   ]
  },
  {
   "cell_type": "code",
   "execution_count": 16,
   "metadata": {},
   "outputs": [
    {
     "name": "stdout",
     "output_type": "stream",
     "text": [
      "adult\n"
     ]
    }
   ],
   "source": [
    "print(a)"
   ]
  },
  {
   "cell_type": "code",
   "execution_count": 18,
   "metadata": {},
   "outputs": [],
   "source": [
    "class functions():\n",
    "    def agecategory():\n",
    "        age=int(input(\"enter the age:\"))\n",
    "        if(age<18):\n",
    "            print(\"children\")\n",
    "            cate=\"children\"\n",
    "        elif(age<35):\n",
    "            print(\"adult\")\n",
    "            cate=\"adult\"\n",
    "        elif(age<59):\n",
    "            print(\"citizen\")\n",
    "            cate=\"citizen\"\n",
    "        else:\n",
    "            print(\"senior citizen\")\n",
    "            cate=\"senior citizen\"   \n",
    "        return cate   \n",
    "    "
   ]
  },
  {
   "cell_type": "code",
   "execution_count": 19,
   "metadata": {},
   "outputs": [
    {
     "name": "stdout",
     "output_type": "stream",
     "text": [
      "enter the age:45\n",
      "citizen\n"
     ]
    },
    {
     "data": {
      "text/plain": [
       "'citizen'"
      ]
     },
     "execution_count": 19,
     "metadata": {},
     "output_type": "execute_result"
    }
   ],
   "source": [
    "functions.agecategory()"
   ]
  },
  {
   "cell_type": "code",
   "execution_count": 23,
   "metadata": {},
   "outputs": [],
   "source": [
    "from MultipleFunctions import multipleFunctions"
   ]
  },
  {
   "cell_type": "markdown",
   "metadata": {},
   "source": []
  },
  {
   "cell_type": "code",
   "execution_count": 25,
   "metadata": {},
   "outputs": [
    {
     "name": "stdout",
     "output_type": "stream",
     "text": [
      "enter the number:44\n",
      "even number\n"
     ]
    },
    {
     "data": {
      "text/plain": [
       "'even number'"
      ]
     },
     "execution_count": 25,
     "metadata": {},
     "output_type": "execute_result"
    }
   ],
   "source": [
    "multipleFunctions.oddeven()"
   ]
  },
  {
   "cell_type": "code",
   "execution_count": null,
   "metadata": {},
   "outputs": [],
   "source": []
  }
 ],
 "metadata": {
  "kernelspec": {
   "display_name": "Python 3",
   "language": "python",
   "name": "python3"
  },
  "language_info": {
   "codemirror_mode": {
    "name": "ipython",
    "version": 3
   },
   "file_extension": ".py",
   "mimetype": "text/x-python",
   "name": "python",
   "nbconvert_exporter": "python",
   "pygments_lexer": "ipython3",
   "version": "3.7.4"
  }
 },
 "nbformat": 4,
 "nbformat_minor": 2
}
